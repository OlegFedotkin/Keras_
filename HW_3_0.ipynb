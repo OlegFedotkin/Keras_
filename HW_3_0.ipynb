{
  "metadata": {
    "kernelspec": {
      "language": "python",
      "display_name": "Python 3",
      "name": "python3"
    },
    "language_info": {
      "pygments_lexer": "ipython3",
      "nbconvert_exporter": "python",
      "version": "3.6.4",
      "file_extension": ".py",
      "codemirror_mode": {
        "name": "ipython",
        "version": 3
      },
      "name": "python",
      "mimetype": "text/x-python"
    },
    "colab": {
      "name": "wine-dataset (1).ipynb",
      "provenance": []
    }
  },
  "nbformat_minor": 0,
  "nbformat": 4,
  "cells": [
    {
      "cell_type": "code",
      "source": [
        "import numpy as np\n",
        "import pandas as pd\n",
        "import matplotlib.pyplot as plt\n",
        "from matplotlib.colors import ListedColormap\n",
        "from sklearn.preprocessing import StandardScaler\n",
        "from keras.utils import np_utils\n",
        "from keras.regularizers import l2\n",
        "from tensorflow.keras.utils import to_categorical\n",
        "import tensorflow as tf\n",
        "from tensorflow import keras\n",
        "from tensorflow.keras.models import Sequential\n",
        "from tensorflow.keras.layers import Dense\n",
        "import random as python_random\n",
        "from sklearn.metrics import classification_report, multilabel_confusion_matrix"
      ],
      "metadata": {
        "id": "H-56_nQzmpNs",
        "execution": {
          "iopub.status.busy": "2022-05-30T09:29:48.567588Z",
          "iopub.execute_input": "2022-05-30T09:29:48.568756Z",
          "iopub.status.idle": "2022-05-30T09:29:48.575941Z",
          "shell.execute_reply.started": "2022-05-30T09:29:48.568715Z",
          "shell.execute_reply": "2022-05-30T09:29:48.574852Z"
        },
        "trusted": true
      },
      "execution_count": 1,
      "outputs": []
    },
    {
      "cell_type": "code",
      "source": [
        "from google.colab import drive\n",
        "drive.mount('/content/drive', force_remount=True)"
      ],
      "metadata": {
        "colab": {
          "base_uri": "https://localhost:8080/"
        },
        "id": "lqwI_kga531V",
        "outputId": "ca1595ee-c247-43c3-c189-3bf391cfac5f"
      },
      "execution_count": 2,
      "outputs": [
        {
          "output_type": "stream",
          "name": "stdout",
          "text": [
            "Mounted at /content/drive\n"
          ]
        }
      ]
    },
    {
      "cell_type": "code",
      "source": [
        "import sys\n",
        "sys.path.append('/content/drive/MyDrive')\n",
        "!ls /content/drive/MyDrive/Input_in_NLP"
      ],
      "metadata": {
        "colab": {
          "base_uri": "https://localhost:8080/"
        },
        "id": "rsmbTo9c533d",
        "outputId": "7071c2d8-0991-4a1d-b1f5-e088b67ab109"
      },
      "execution_count": 3,
      "outputs": [
        {
          "output_type": "stream",
          "name": "stdout",
          "text": [
            " binary_alpha_digits_images.npy   Lesson_1.ipynb   Lesson_3.ipynb\n",
            " binary_alpha_digits_labels.npy   Lesson_2.ipynb  'wine-dataset (1).ipynb'\n"
          ]
        }
      ]
    },
    {
      "cell_type": "markdown",
      "source": [
        "# Домашнее задание"
      ],
      "metadata": {
        "id": "ycElwFj_RBys"
      }
    },
    {
      "cell_type": "markdown",
      "source": [
        "# Датасет с винами"
      ],
      "metadata": {
        "id": "M72ajz7tRQuN"
      }
    },
    {
      "cell_type": "markdown",
      "source": [
        "https://scikit-learn.org/stable/modules/generated/sklearn.datasets.load_wine.html#sklearn.datasets.load_wine"
      ],
      "metadata": {
        "id": "089ZkMffRYu6"
      }
    },
    {
      "cell_type": "code",
      "source": [
        "from sklearn.datasets import load_wine\n",
        "from sklearn.model_selection import train_test_split"
      ],
      "metadata": {
        "id": "SkW0cWmmQWEv",
        "execution": {
          "iopub.status.busy": "2022-05-30T09:05:07.852335Z",
          "iopub.execute_input": "2022-05-30T09:05:07.852970Z",
          "iopub.status.idle": "2022-05-30T09:05:07.993652Z",
          "shell.execute_reply.started": "2022-05-30T09:05:07.852935Z",
          "shell.execute_reply": "2022-05-30T09:05:07.992644Z"
        },
        "trusted": true
      },
      "execution_count": 4,
      "outputs": []
    },
    {
      "cell_type": "code",
      "source": [
        "data = load_wine()"
      ],
      "metadata": {
        "id": "yXhssEenSe8S",
        "execution": {
          "iopub.status.busy": "2022-05-30T09:05:08.558283Z",
          "iopub.execute_input": "2022-05-30T09:05:08.558659Z",
          "iopub.status.idle": "2022-05-30T09:05:08.570580Z",
          "shell.execute_reply.started": "2022-05-30T09:05:08.558629Z",
          "shell.execute_reply": "2022-05-30T09:05:08.569719Z"
        },
        "trusted": true
      },
      "execution_count": 5,
      "outputs": []
    },
    {
      "cell_type": "code",
      "source": [
        "list(data.target_names)"
      ],
      "metadata": {
        "id": "DTyfGtPIRjbP",
        "execution": {
          "iopub.status.busy": "2022-05-30T09:05:09.606215Z",
          "iopub.execute_input": "2022-05-30T09:05:09.606762Z",
          "iopub.status.idle": "2022-05-30T09:05:09.614634Z",
          "shell.execute_reply.started": "2022-05-30T09:05:09.606730Z",
          "shell.execute_reply": "2022-05-30T09:05:09.613539Z"
        },
        "trusted": true,
        "colab": {
          "base_uri": "https://localhost:8080/"
        },
        "outputId": "f22660af-8d11-4261-ac04-851f50825e28"
      },
      "execution_count": 6,
      "outputs": [
        {
          "output_type": "execute_result",
          "data": {
            "text/plain": [
              "['class_0', 'class_1', 'class_2']"
            ]
          },
          "metadata": {},
          "execution_count": 6
        }
      ]
    },
    {
      "cell_type": "code",
      "source": [
        "data.feature_names"
      ],
      "metadata": {
        "id": "tvnxIsLpRQGC",
        "execution": {
          "iopub.status.busy": "2022-05-30T09:05:09.958504Z",
          "iopub.execute_input": "2022-05-30T09:05:09.958891Z",
          "iopub.status.idle": "2022-05-30T09:05:09.965366Z",
          "shell.execute_reply.started": "2022-05-30T09:05:09.958861Z",
          "shell.execute_reply": "2022-05-30T09:05:09.964241Z"
        },
        "trusted": true,
        "colab": {
          "base_uri": "https://localhost:8080/"
        },
        "outputId": "287a4578-3903-4ea9-96e3-6d5d9f9472a2"
      },
      "execution_count": 7,
      "outputs": [
        {
          "output_type": "execute_result",
          "data": {
            "text/plain": [
              "['alcohol',\n",
              " 'malic_acid',\n",
              " 'ash',\n",
              " 'alcalinity_of_ash',\n",
              " 'magnesium',\n",
              " 'total_phenols',\n",
              " 'flavanoids',\n",
              " 'nonflavanoid_phenols',\n",
              " 'proanthocyanins',\n",
              " 'color_intensity',\n",
              " 'hue',\n",
              " 'od280/od315_of_diluted_wines',\n",
              " 'proline']"
            ]
          },
          "metadata": {},
          "execution_count": 7
        }
      ]
    },
    {
      "cell_type": "code",
      "source": [
        "data.data.shape, data.target.shape"
      ],
      "metadata": {
        "id": "F6E3WMc2Rl0y",
        "execution": {
          "iopub.status.busy": "2022-05-30T09:05:12.032399Z",
          "iopub.execute_input": "2022-05-30T09:05:12.032810Z",
          "iopub.status.idle": "2022-05-30T09:05:12.039632Z",
          "shell.execute_reply.started": "2022-05-30T09:05:12.032779Z",
          "shell.execute_reply": "2022-05-30T09:05:12.038552Z"
        },
        "trusted": true,
        "colab": {
          "base_uri": "https://localhost:8080/"
        },
        "outputId": "4c7f6629-e211-45ff-fb30-1db360e68200"
      },
      "execution_count": 8,
      "outputs": [
        {
          "output_type": "execute_result",
          "data": {
            "text/plain": [
              "((178, 13), (178,))"
            ]
          },
          "metadata": {},
          "execution_count": 8
        }
      ]
    },
    {
      "cell_type": "code",
      "source": [
        "X_train, X_test, y_train, y_test = train_test_split(data.data, data.target, test_size=0.25, shuffle=True, random_state=0)"
      ],
      "metadata": {
        "id": "YZqtD7GFRsnQ",
        "execution": {
          "iopub.status.busy": "2022-05-30T09:05:14.678949Z",
          "iopub.execute_input": "2022-05-30T09:05:14.679353Z",
          "iopub.status.idle": "2022-05-30T09:05:14.687163Z",
          "shell.execute_reply.started": "2022-05-30T09:05:14.679321Z",
          "shell.execute_reply": "2022-05-30T09:05:14.686022Z"
        },
        "trusted": true
      },
      "execution_count": 9,
      "outputs": []
    },
    {
      "cell_type": "code",
      "source": [
        "X_train.shape, X_test.shape, y_train.shape, y_test.shape"
      ],
      "metadata": {
        "id": "ZI_B1C6FSYFu",
        "execution": {
          "iopub.status.busy": "2022-05-30T09:05:15.983416Z",
          "iopub.execute_input": "2022-05-30T09:05:15.983810Z",
          "iopub.status.idle": "2022-05-30T09:05:15.990575Z",
          "shell.execute_reply.started": "2022-05-30T09:05:15.983779Z",
          "shell.execute_reply": "2022-05-30T09:05:15.989786Z"
        },
        "trusted": true,
        "colab": {
          "base_uri": "https://localhost:8080/"
        },
        "outputId": "39a821df-05e9-4691-e2d8-fa522c664101"
      },
      "execution_count": 10,
      "outputs": [
        {
          "output_type": "execute_result",
          "data": {
            "text/plain": [
              "((133, 13), (45, 13), (133,), (45,))"
            ]
          },
          "metadata": {},
          "execution_count": 10
        }
      ]
    },
    {
      "cell_type": "code",
      "source": [
        "sc = StandardScaler(with_mean=True, with_std=True)\n",
        "\n",
        "X_train_std = sc.fit_transform(X_train)\n",
        "\n",
        "X_test_std = sc.transform(X_test)\n",
        "    \n",
        "Y_train = to_categorical(y_train, 3)\n",
        "Y_test  = to_categorical(y_test, 3)"
      ],
      "metadata": {
        "execution": {
          "iopub.status.busy": "2022-05-30T09:10:31.192257Z",
          "iopub.execute_input": "2022-05-30T09:10:31.192707Z",
          "iopub.status.idle": "2022-05-30T09:10:31.200302Z",
          "shell.execute_reply.started": "2022-05-30T09:10:31.192673Z",
          "shell.execute_reply": "2022-05-30T09:10:31.199262Z"
        },
        "trusted": true,
        "id": "WXOSzf152Ih4"
      },
      "execution_count": 11,
      "outputs": []
    },
    {
      "cell_type": "code",
      "source": [
        "model = Sequential()\n",
        "model.add(Dense(100, input_shape=(X_train.shape[1],), activation='relu', kernel_regularizer=l2()))\n",
        "model.add(Dense(64, activation='relu', kernel_regularizer=l2()))\n",
        "model.add(Dense(3, activation='softmax'))"
      ],
      "metadata": {
        "execution": {
          "iopub.status.busy": "2022-05-30T09:35:11.841215Z",
          "iopub.execute_input": "2022-05-30T09:35:11.841930Z",
          "iopub.status.idle": "2022-05-30T09:35:11.876250Z",
          "shell.execute_reply.started": "2022-05-30T09:35:11.841890Z",
          "shell.execute_reply": "2022-05-30T09:35:11.875190Z"
        },
        "trusted": true,
        "id": "b5j7EDIx2Ih5"
      },
      "execution_count": 12,
      "outputs": []
    },
    {
      "cell_type": "code",
      "source": [
        "model.compile(loss='categorical_crossentropy', optimizer='adam', metrics=['accuracy'])"
      ],
      "metadata": {
        "execution": {
          "iopub.status.busy": "2022-05-30T09:35:12.694142Z",
          "iopub.execute_input": "2022-05-30T09:35:12.694570Z",
          "iopub.status.idle": "2022-05-30T09:35:12.705858Z",
          "shell.execute_reply.started": "2022-05-30T09:35:12.694537Z",
          "shell.execute_reply": "2022-05-30T09:35:12.704857Z"
        },
        "trusted": true,
        "id": "dN8Zw_rp2Ih5"
      },
      "execution_count": 16,
      "outputs": []
    },
    {
      "cell_type": "code",
      "source": [
        "history = model.fit(X_train_std, Y_train, batch_size=128, epochs=32, verbose=0, validation_split=0.25)"
      ],
      "metadata": {
        "execution": {
          "iopub.status.busy": "2022-05-30T09:40:57.741878Z",
          "iopub.execute_input": "2022-05-30T09:40:57.742634Z",
          "iopub.status.idle": "2022-05-30T09:40:58.197017Z",
          "shell.execute_reply.started": "2022-05-30T09:40:57.742594Z",
          "shell.execute_reply": "2022-05-30T09:40:58.195989Z"
        },
        "trusted": true,
        "id": "ZSknL_lx2Ih5"
      },
      "execution_count": 17,
      "outputs": []
    },
    {
      "cell_type": "code",
      "source": [
        "model.evaluate(X_test_std, Y_test, verbose=1)"
      ],
      "metadata": {
        "execution": {
          "iopub.status.busy": "2022-05-30T09:40:58.199053Z",
          "iopub.execute_input": "2022-05-30T09:40:58.200766Z",
          "iopub.status.idle": "2022-05-30T09:40:58.272495Z",
          "shell.execute_reply.started": "2022-05-30T09:40:58.200708Z",
          "shell.execute_reply": "2022-05-30T09:40:58.271358Z"
        },
        "trusted": true,
        "colab": {
          "base_uri": "https://localhost:8080/"
        },
        "id": "U0jCGlVc2Ih6",
        "outputId": "c82febd5-fba8-486d-a414-974822201fe4"
      },
      "execution_count": 18,
      "outputs": [
        {
          "output_type": "stream",
          "name": "stdout",
          "text": [
            "2/2 [==============================] - 0s 4ms/step - loss: 0.8772 - accuracy: 1.0000\n"
          ]
        },
        {
          "output_type": "execute_result",
          "data": {
            "text/plain": [
              "[0.8771544694900513, 1.0]"
            ]
          },
          "metadata": {},
          "execution_count": 18
        }
      ]
    },
    {
      "cell_type": "code",
      "source": [
        "predictions = model.predict(X_test_std)"
      ],
      "metadata": {
        "execution": {
          "iopub.status.busy": "2022-05-30T09:40:58.297126Z",
          "iopub.execute_input": "2022-05-30T09:40:58.297530Z",
          "iopub.status.idle": "2022-05-30T09:40:58.357156Z",
          "shell.execute_reply.started": "2022-05-30T09:40:58.297500Z",
          "shell.execute_reply": "2022-05-30T09:40:58.356010Z"
        },
        "trusted": true,
        "id": "MRDrgfa32Ih6"
      },
      "execution_count": 19,
      "outputs": []
    },
    {
      "cell_type": "code",
      "source": [
        "print(classification_report(Y_test.argmax(-1), predictions.argmax(-1)))"
      ],
      "metadata": {
        "execution": {
          "iopub.status.busy": "2022-05-30T09:40:59.412658Z",
          "iopub.execute_input": "2022-05-30T09:40:59.413044Z",
          "iopub.status.idle": "2022-05-30T09:40:59.425356Z",
          "shell.execute_reply.started": "2022-05-30T09:40:59.413015Z",
          "shell.execute_reply": "2022-05-30T09:40:59.424255Z"
        },
        "trusted": true,
        "colab": {
          "base_uri": "https://localhost:8080/"
        },
        "id": "PUx5lwX42Ih6",
        "outputId": "d1d7e52e-9bfe-4539-ea58-f2bcbe715cb9"
      },
      "execution_count": 20,
      "outputs": [
        {
          "output_type": "stream",
          "name": "stdout",
          "text": [
            "              precision    recall  f1-score   support\n",
            "\n",
            "           0       1.00      1.00      1.00        16\n",
            "           1       1.00      1.00      1.00        21\n",
            "           2       1.00      1.00      1.00         8\n",
            "\n",
            "    accuracy                           1.00        45\n",
            "   macro avg       1.00      1.00      1.00        45\n",
            "weighted avg       1.00      1.00      1.00        45\n",
            "\n"
          ]
        }
      ]
    },
    {
      "cell_type": "code",
      "source": [
        "print(multilabel_confusion_matrix(Y_test.argmax(-1), predictions.argmax(-1)))"
      ],
      "metadata": {
        "execution": {
          "iopub.status.busy": "2022-05-30T09:40:59.868669Z",
          "iopub.execute_input": "2022-05-30T09:40:59.869095Z",
          "iopub.status.idle": "2022-05-30T09:40:59.875731Z",
          "shell.execute_reply.started": "2022-05-30T09:40:59.869062Z",
          "shell.execute_reply": "2022-05-30T09:40:59.874778Z"
        },
        "trusted": true,
        "colab": {
          "base_uri": "https://localhost:8080/"
        },
        "id": "P7-kgeYs2Ih6",
        "outputId": "250e49a8-4fcd-486c-ca8a-385f134cd660"
      },
      "execution_count": 21,
      "outputs": [
        {
          "output_type": "stream",
          "name": "stdout",
          "text": [
            "[[[29  0]\n",
            "  [ 0 16]]\n",
            "\n",
            " [[24  0]\n",
            "  [ 0 21]]\n",
            "\n",
            " [[37  0]\n",
            "  [ 0  8]]]\n"
          ]
        }
      ]
    },
    {
      "cell_type": "code",
      "source": [
        "history.model"
      ],
      "metadata": {
        "execution": {
          "iopub.status.busy": "2022-05-30T09:41:01.343010Z",
          "iopub.execute_input": "2022-05-30T09:41:01.343796Z",
          "iopub.status.idle": "2022-05-30T09:41:01.349079Z",
          "shell.execute_reply.started": "2022-05-30T09:41:01.343750Z",
          "shell.execute_reply": "2022-05-30T09:41:01.348343Z"
        },
        "trusted": true,
        "colab": {
          "base_uri": "https://localhost:8080/"
        },
        "id": "wJ5IazTQ2Ih7",
        "outputId": "9f369ef1-c679-43c6-d7c9-a27697e6b505"
      },
      "execution_count": 22,
      "outputs": [
        {
          "output_type": "execute_result",
          "data": {
            "text/plain": [
              "<keras.engine.sequential.Sequential at 0x7ff157128710>"
            ]
          },
          "metadata": {},
          "execution_count": 22
        }
      ]
    },
    {
      "cell_type": "code",
      "source": [
        "model.summary()"
      ],
      "metadata": {
        "execution": {
          "iopub.status.busy": "2022-05-30T09:41:01.662079Z",
          "iopub.execute_input": "2022-05-30T09:41:01.662658Z",
          "iopub.status.idle": "2022-05-30T09:41:01.670145Z",
          "shell.execute_reply.started": "2022-05-30T09:41:01.662616Z",
          "shell.execute_reply": "2022-05-30T09:41:01.669055Z"
        },
        "trusted": true,
        "colab": {
          "base_uri": "https://localhost:8080/"
        },
        "id": "daAk0IUJ2Ih7",
        "outputId": "e283a9b1-3e52-431d-a3ca-c5045ba2557e"
      },
      "execution_count": 23,
      "outputs": [
        {
          "output_type": "stream",
          "name": "stdout",
          "text": [
            "Model: \"sequential\"\n",
            "_________________________________________________________________\n",
            " Layer (type)                Output Shape              Param #   \n",
            "=================================================================\n",
            " dense (Dense)               (None, 100)               1400      \n",
            "                                                                 \n",
            " dense_1 (Dense)             (None, 64)                6464      \n",
            "                                                                 \n",
            " dense_2 (Dense)             (None, 3)                 195       \n",
            "                                                                 \n",
            "=================================================================\n",
            "Total params: 8,059\n",
            "Trainable params: 8,059\n",
            "Non-trainable params: 0\n",
            "_________________________________________________________________\n"
          ]
        }
      ]
    },
    {
      "cell_type": "code",
      "source": [
        "from keras.utils.vis_utils import plot_model\n",
        "\n",
        "plot_model(model, show_shapes=True, show_layer_names=True)"
      ],
      "metadata": {
        "execution": {
          "iopub.status.busy": "2022-05-30T09:41:02.411004Z",
          "iopub.execute_input": "2022-05-30T09:41:02.411448Z",
          "iopub.status.idle": "2022-05-30T09:41:02.515368Z",
          "shell.execute_reply.started": "2022-05-30T09:41:02.411411Z",
          "shell.execute_reply": "2022-05-30T09:41:02.514102Z"
        },
        "trusted": true,
        "colab": {
          "base_uri": "https://localhost:8080/",
          "height": 422
        },
        "id": "BhQIBH8q2Ih7",
        "outputId": "5744bc9d-4ca1-4568-de29-b3bef8f9d5c5"
      },
      "execution_count": 24,
      "outputs": [
        {
          "output_type": "execute_result",
          "data": {
            "text/plain": [
              "<IPython.core.display.Image object>"
            ],
            "image/png": "[encoded data removed]"
          },
          "metadata": {},
          "execution_count": 24
        }
      ]
    },
    {
      "cell_type": "code",
      "source": [
        ""
      ],
      "metadata": {
        "id": "twEIa4FI2Ih7"
      },
      "execution_count": null,
      "outputs": []
    },
    {
      "cell_type": "markdown",
      "source": [
        "# Датасет с рукописными буквами"
      ],
      "metadata": {
        "id": "gAqpMfDiSkZ5"
      }
    },
    {
      "cell_type": "markdown",
      "source": [
        "https://www.tensorflow.org/datasets/catalog/binary_alpha_digits"
      ],
      "metadata": {
        "id": "m5rHCIuXVrmj"
      }
    },
    {
      "cell_type": "code",
      "source": [
        ""
      ],
      "metadata": {
        "id": "UyGWLJcx6kd2"
      },
      "execution_count": null,
      "outputs": []
    },
    {
      "cell_type": "code",
      "source": [
        ""
      ],
      "metadata": {
        "id": "PH4WS14g6kj9"
      },
      "execution_count": null,
      "outputs": []
    },
    {
      "cell_type": "code",
      "source": [
        "classes = [str(i) for i in range(10)] +  list('ABCDEFGHIJKLMNOPQRSTUVWXYZ')\n",
        "print(classes)\n",
        "\n",
        "X = np.load('drive/MyDrive/Input_in_NLP/binary_alpha_digits_images.npy')\n",
        "Y = np.load('drive/MyDrive/Input_in_NLP/binary_alpha_digits_labels.npy')"
      ],
      "metadata": {
        "id": "OMHXQi0ZSimY",
        "colab": {
          "base_uri": "https://localhost:8080/"
        },
        "outputId": "d34f3d79-9454-45b1-bab0-9eb6503f8841"
      },
      "execution_count": 44,
      "outputs": [
        {
          "output_type": "stream",
          "name": "stdout",
          "text": [
            "['0', '1', '2', '3', '4', '5', '6', '7', '8', '9', 'A', 'B', 'C', 'D', 'E', 'F', 'G', 'H', 'I', 'J', 'K', 'L', 'M', 'N', 'O', 'P', 'Q', 'R', 'S', 'T', 'U', 'V', 'W', 'X', 'Y', 'Z']\n"
          ]
        }
      ]
    },
    {
      "cell_type": "code",
      "source": [
        "X.shape, Y.shape"
      ],
      "metadata": {
        "id": "-KABm1zlKMi-",
        "colab": {
          "base_uri": "https://localhost:8080/"
        },
        "outputId": "72aa613c-466c-422c-a1ba-dbdc4138c9c5"
      },
      "execution_count": 45,
      "outputs": [
        {
          "output_type": "execute_result",
          "data": {
            "text/plain": [
              "((1404, 20, 16), (1404,))"
            ]
          },
          "metadata": {},
          "execution_count": 45
        }
      ]
    },
    {
      "cell_type": "code",
      "source": [
        "fig, axes = plt.subplots(3, 5, figsize=(10, 5))\n",
        "fig.suptitle('binary alpha digits', fontsize=20)\n",
        "n = 0\n",
        "for ax in axes.flat:\n",
        "    ax.set_yticks([])\n",
        "    ax.set_xticks([])\n",
        "    ax.imshow(X[n], cmap=plt.cm.binary)\n",
        "    ax.set_xlabel(classes[Y[n]])\n",
        "    n += 1"
      ],
      "metadata": {
        "id": "4nmyuGLyC3W9",
        "colab": {
          "base_uri": "https://localhost:8080/",
          "height": 353
        },
        "outputId": "1eb9cd7b-7a1b-466b-fbbe-1d2db1e6415a"
      },
      "execution_count": 46,
      "outputs": [
        {
          "output_type": "display_data",
          "data": {
            "text/plain": [
              "<Figure size 720x360 with 15 Axes>"
            ],
            "image/png": "[encoded data removed]"
          },
          "metadata": {}
        }
      ]
    },
    {
      "cell_type": "code",
      "source": [
        "train_images, test_images, train_labels, test_labels = train_test_split(X, Y, test_size=0.25, shuffle=True, random_state=0)"
      ],
      "metadata": {
        "id": "mP7Xm1Za-Bxw"
      },
      "execution_count": 47,
      "outputs": []
    },
    {
      "cell_type": "code",
      "source": [
        "train_images = (train_images / 255)\n",
        "test_images = (test_images / 255)\n",
        "\n",
        "print(train_images.shape)\n",
        "print(train_labels.shape)"
      ],
      "metadata": {
        "colab": {
          "base_uri": "https://localhost:8080/"
        },
        "id": "vYlR5k2C2Ih9",
        "outputId": "d21fb375-7c09-496c-f0c2-7f3bee0d99c1"
      },
      "execution_count": 48,
      "outputs": [
        {
          "output_type": "stream",
          "name": "stdout",
          "text": [
            "(1053, 20, 16)\n",
            "(1053,)\n"
          ]
        }
      ]
    },
    {
      "cell_type": "code",
      "source": [
        "model = keras.Sequential([\n",
        "    keras.layers.Flatten(input_shape=(20, 16)),\n",
        "    keras.layers.Dense(256, activation='relu'),\n",
        "    keras.layers.Dense(128, activation='relu'),\n",
        "    keras.layers.Dense(64, activation='relu'),\n",
        "    keras.layers.Dense(36)\n",
        "])\n",
        "\n",
        "model.compile(optimizer=tf.keras.optimizers.Adam(learning_rate=0.002),\n",
        "              loss=tf.keras.losses.SparseCategoricalCrossentropy(from_logits=True),\n",
        "              metrics=['accuracy'])"
      ],
      "metadata": {
        "id": "8CV6Silj2Ih9"
      },
      "execution_count": 91,
      "outputs": []
    },
    {
      "cell_type": "code",
      "source": [
        "hstr = model.fit(train_images, train_labels, epochs=120, verbose=0)"
      ],
      "metadata": {
        "id": "tnvFeU6z2Ih-"
      },
      "execution_count": 92,
      "outputs": []
    },
    {
      "cell_type": "code",
      "source": [
        "hstr.params"
      ],
      "metadata": {
        "colab": {
          "base_uri": "https://localhost:8080/"
        },
        "id": "fkMBleQq2Ih-",
        "outputId": "4a26edb0-4c4f-419a-db40-e495dc420c41"
      },
      "execution_count": 93,
      "outputs": [
        {
          "output_type": "execute_result",
          "data": {
            "text/plain": [
              "{'epochs': 120, 'steps': 33, 'verbose': 0}"
            ]
          },
          "metadata": {},
          "execution_count": 93
        }
      ]
    },
    {
      "cell_type": "code",
      "source": [
        "hstr.model"
      ],
      "metadata": {
        "colab": {
          "base_uri": "https://localhost:8080/"
        },
        "id": "GEnXtfWM2Ih-",
        "outputId": "6135f998-d234-4cc4-8ff3-dcef3704680e"
      },
      "execution_count": 94,
      "outputs": [
        {
          "output_type": "execute_result",
          "data": {
            "text/plain": [
              "<keras.engine.sequential.Sequential at 0x7ff14dc08590>"
            ]
          },
          "metadata": {},
          "execution_count": 94
        }
      ]
    },
    {
      "cell_type": "code",
      "source": [
        "model.summary()"
      ],
      "metadata": {
        "colab": {
          "base_uri": "https://localhost:8080/"
        },
        "id": "G38G6O102Ih_",
        "outputId": "2c6bf505-e3da-4fca-b778-857ef8cdf7b1"
      },
      "execution_count": 95,
      "outputs": [
        {
          "output_type": "stream",
          "name": "stdout",
          "text": [
            "Model: \"sequential_22\"\n",
            "_________________________________________________________________\n",
            " Layer (type)                Output Shape              Param #   \n",
            "=================================================================\n",
            " flatten_20 (Flatten)        (None, 320)               0         \n",
            "                                                                 \n",
            " dense_77 (Dense)            (None, 256)               82176     \n",
            "                                                                 \n",
            " dense_78 (Dense)            (None, 128)               32896     \n",
            "                                                                 \n",
            " dense_79 (Dense)            (None, 64)                8256      \n",
            "                                                                 \n",
            " dense_80 (Dense)            (None, 36)                2340      \n",
            "                                                                 \n",
            "=================================================================\n",
            "Total params: 125,668\n",
            "Trainable params: 125,668\n",
            "Non-trainable params: 0\n",
            "_________________________________________________________________\n"
          ]
        }
      ]
    },
    {
      "cell_type": "code",
      "source": [
        "from keras.utils.vis_utils import plot_model\n",
        "\n",
        "plot_model(model, show_shapes=True, show_layer_names=True)"
      ],
      "metadata": {
        "colab": {
          "base_uri": "https://localhost:8080/",
          "height": 644
        },
        "id": "90zmw7RP2Ih_",
        "outputId": "45aed3a2-1837-4e41-bf06-c0d2bba3a559"
      },
      "execution_count": 96,
      "outputs": [
        {
          "output_type": "execute_result",
          "data": {
            "text/plain": [
              "<IPython.core.display.Image object>"
            ],
            "image/png": "[encoded data removed]"
          },
          "metadata": {},
          "execution_count": 96
        }
      ]
    },
    {
      "cell_type": "code",
      "source": [
        "model.predict(test_images)"
      ],
      "metadata": {
        "colab": {
          "base_uri": "https://localhost:8080/"
        },
        "id": "kCTLzzrb2Ih_",
        "outputId": "e0fb0d0f-a27e-42c8-a0d0-d0d928f0a1af"
      },
      "execution_count": 97,
      "outputs": [
        {
          "output_type": "execute_result",
          "data": {
            "text/plain": [
              "array([[-67.48269  ,   1.4839563, -10.887823 , ...,   3.413132 ,\n",
              "          5.4024878, -44.00859  ],\n",
              "       [-12.703959 ,  -5.204586 , -22.014158 , ..., -20.092537 ,\n",
              "        -30.727621 , -24.046837 ],\n",
              "       [-14.589523 ,  -5.892808 ,  -5.2090983, ...,  -8.935032 ,\n",
              "         -1.1967378,  -4.091234 ],\n",
              "       ...,\n",
              "       [-42.941444 , -10.636898 , -34.238575 , ..., -17.556246 ,\n",
              "         -4.8824844, -52.613693 ],\n",
              "       [-17.37673  ,  -0.8329927,   2.9120848, ..., -10.140375 ,\n",
              "        -25.536299 ,   5.813841 ],\n",
              "       [ -8.023395 ,  -7.7661605,   4.3985634, ..., -29.988712 ,\n",
              "        -45.76386  ,  15.037716 ]], dtype=float32)"
            ]
          },
          "metadata": {},
          "execution_count": 97
        }
      ]
    },
    {
      "cell_type": "code",
      "source": [
        ""
      ],
      "metadata": {
        "id": "IJOAtTy22Ih_"
      },
      "execution_count": 97,
      "outputs": []
    },
    {
      "cell_type": "code",
      "source": [
        ""
      ],
      "metadata": {
        "id": "q30pd2wT2Ih_"
      },
      "execution_count": null,
      "outputs": []
    },
    {
      "cell_type": "code",
      "source": [
        ""
      ],
      "metadata": {
        "id": "Z8hwMNIP2IiA"
      },
      "execution_count": null,
      "outputs": []
    },
    {
      "cell_type": "code",
      "source": [
        ""
      ],
      "metadata": {
        "id": "0rPeOqk32IiA"
      },
      "execution_count": null,
      "outputs": []
    }
  ]
}